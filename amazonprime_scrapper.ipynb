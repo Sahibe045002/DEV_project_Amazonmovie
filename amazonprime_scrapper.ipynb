{
 "cells": [
  {
   "cell_type": "code",
   "execution_count": 1,
   "id": "9118a238",
   "metadata": {},
   "outputs": [
    {
     "name": "stdout",
     "output_type": "stream",
     "text": [
      "Failed to retrieve movie titles from Amazon Prime after multiple attempts.\n"
     ]
    }
   ],
   "source": [
    "import requests\n",
    "from bs4 import BeautifulSoup\n",
    "import pandas as pd\n",
    "import time\n",
    "\n",
    "# URL of the Amazon Prime Movies page\n",
    "url = \"https://www.amazon.com/Prime-Video/b/?node=2858778011\"\n",
    "\n",
    "# Send an HTTP GET request to the URL with a user-agent header\n",
    "headers = {\n",
    "    \"User-Agent\": \"Mozilla/5.0 (Windows NT 10.0; Win64; x64) AppleWebKit/537.36 (KHTML, like Gecko) Chrome/58.0.3029.110 Safari/537.36\"\n",
    "}\n",
    "\n",
    "# Maximum number of retry attempts\n",
    "max_retries = 3\n",
    "\n",
    "# Initialize variables to store movie titles\n",
    "movie_titles = []\n",
    "\n",
    "for retry in range(max_retries):\n",
    "    try:\n",
    "        response = requests.get(url, headers=headers)\n",
    "\n",
    "        # Check if the request was successful (status code 200)\n",
    "        if response.status_code == 200:\n",
    "            # Parse the HTML content of the page\n",
    "            soup = BeautifulSoup(response.content, \"html.parser\")\n",
    "\n",
    "            # Find the HTML elements containing movie titles\n",
    "            title_elements = soup.find_all(\"span\", class_=\"avu-full-width-image-section-title\")\n",
    "\n",
    "            # Extract movie titles from the HTML elements\n",
    "            movie_titles = [title.text.strip() for title in title_elements if title.text.strip()]\n",
    "\n",
    "            break  # Exit the loop if successful\n",
    "        else:\n",
    "            print(f\"Request failed with status code {response.status_code}. Retrying...\")\n",
    "    except Exception as e:\n",
    "        print(f\"An error occurred: {str(e)}. Retrying...\")\n",
    "\n",
    "    # Wait for a moment before retrying\n",
    "    time.sleep(2)\n",
    "\n",
    "if movie_titles:\n",
    "    # Create a DataFrame to store the movie titles\n",
    "    df = pd.DataFrame({\"Movie Title\": movie_titles})\n",
    "\n",
    "    # Save the DataFrame to a CSV file\n",
    "    df.to_csv(\"amazon_prime_titles.csv\", index=False)\n",
    "\n",
    "    print(\"Movie titles have been scraped and saved to 'amazon_prime_titles.csv'.\")\n",
    "else:\n",
    "    print(\"Failed to retrieve movie titles from Amazon Prime after multiple attempts.\")\n"
   ]
  },
  {
   "cell_type": "code",
   "execution_count": null,
   "id": "ff08e989",
   "metadata": {},
   "outputs": [],
   "source": []
  }
 ],
 "metadata": {
  "kernelspec": {
   "display_name": "Python 3 (ipykernel)",
   "language": "python",
   "name": "python3"
  },
  "language_info": {
   "codemirror_mode": {
    "name": "ipython",
    "version": 3
   },
   "file_extension": ".py",
   "mimetype": "text/x-python",
   "name": "python",
   "nbconvert_exporter": "python",
   "pygments_lexer": "ipython3",
   "version": "3.11.3"
  }
 },
 "nbformat": 4,
 "nbformat_minor": 5
}
